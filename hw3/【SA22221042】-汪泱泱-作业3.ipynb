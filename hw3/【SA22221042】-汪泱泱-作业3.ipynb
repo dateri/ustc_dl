{
 "cells": [
  {
   "cell_type": "markdown",
   "metadata": {},
   "source": [
    "# DeepLearning Assignment 3 实验报告\n",
    "# SA22221042 汪泱泱"
   ]
  },
  {
   "cell_type": "markdown",
   "metadata": {},
   "source": [
    "## 一、实验环境"
   ]
  },
  {
   "cell_type": "markdown",
   "metadata": {},
   "source": [
    "GPU TITAN Xp  \n",
    "CUDA 10.1  \n",
    "python 3.7.13  \n",
    "torch 1.8.1  \n",
    "torchtext 0.6.0  \n",
    "spacy 3.4.3  \n",
    "transformers-4.25.1"
   ]
  },
  {
   "cell_type": "markdown",
   "metadata": {},
   "source": [
    "## 二、实验过程"
   ]
  },
  {
   "cell_type": "code",
   "execution_count": 1,
   "metadata": {},
   "outputs": [],
   "source": [
    "import random\n",
    "import sys\n",
    "import time\n",
    "import torch\n",
    "import torch.nn as nn\n",
    "import torchtext\n",
    "import tqdm\n",
    "from transformers import AutoTokenizer, AutoModel"
   ]
  },
  {
   "cell_type": "markdown",
   "metadata": {},
   "source": [
    "选择使用的BERT模型，一共对两种英文不区分大小写的BERT预训练模型（'bert-base-uncased'和'bert-large-uncased'）做了实验，这里以'bert-base-uncased'为例，得到了对应的Tokenizer和Model。"
   ]
  },
  {
   "cell_type": "code",
   "execution_count": 2,
   "metadata": {},
   "outputs": [],
   "source": [
    "pretrained_model_name = 'bert-base-uncased'"
   ]
  },
  {
   "cell_type": "code",
   "execution_count": 3,
   "metadata": {},
   "outputs": [
    {
     "name": "stderr",
     "output_type": "stream",
     "text": [
      "Some weights of the model checkpoint at bert-base-uncased were not used when initializing BertModel: ['cls.predictions.decoder.weight', 'cls.predictions.transform.LayerNorm.bias', 'cls.predictions.transform.dense.bias', 'cls.predictions.bias', 'cls.predictions.transform.LayerNorm.weight', 'cls.seq_relationship.bias', 'cls.seq_relationship.weight', 'cls.predictions.transform.dense.weight']\n",
      "- This IS expected if you are initializing BertModel from the checkpoint of a model trained on another task or with another architecture (e.g. initializing a BertForSequenceClassification model from a BertForPreTraining model).\n",
      "- This IS NOT expected if you are initializing BertModel from the checkpoint of a model that you expect to be exactly identical (initializing a BertForSequenceClassification model from a BertForSequenceClassification model).\n"
     ]
    }
   ],
   "source": [
    "tokenizer = AutoTokenizer.from_pretrained(pretrained_model_name, do_lower_case=False)\n",
    "bertModel = AutoModel.from_pretrained(pretrained_model_name)"
   ]
  },
  {
   "cell_type": "markdown",
   "metadata": {},
   "source": [
    "进行数据集的预处理。\n",
    "由于IMDB公开数据集“Large Movie Review Dataset“是非常常见的公开数据集，torchtext中提供了接口`torchtext.datasets.imdb.IMDB`，我们可以直接使用其进行预处理。"
   ]
  },
  {
   "cell_type": "markdown",
   "metadata": {},
   "source": [
    "按BERT最大的可输入长度截断token"
   ]
  },
  {
   "cell_type": "code",
   "execution_count": 13,
   "metadata": {},
   "outputs": [],
   "source": [
    "MAX_TOKENS = tokenizer.max_model_input_sizes[pretrained_model_name]-2\n",
    "def tokenize_and_cut(sentence):\n",
    "    tokens = tokenizer.tokenize(sentence, max_length=MAX_TOKENS, truncation=True)\n",
    "    return tokens"
   ]
  },
  {
   "cell_type": "markdown",
   "metadata": {},
   "source": [
    "分别使用torchtext.data.Field和torchtext.data.LabelField存储token和label，预设一些对应的特殊token包括表示句子开头、句子结尾、填充、不存在的token。"
   ]
  },
  {
   "cell_type": "code",
   "execution_count": 14,
   "metadata": {},
   "outputs": [],
   "source": [
    "train_text = torchtext.data.Field(batch_first=True,\n",
    "                            use_vocab=False,\n",
    "                            tokenize = tokenize_and_cut,\n",
    "                            preprocessing = tokenizer.convert_tokens_to_ids,\n",
    "                            init_token=tokenizer.cls_token_id,\n",
    "                            eos_token=tokenizer.sep_token_id,\n",
    "                            pad_token=tokenizer.pad_token_id,\n",
    "                            unk_token=tokenizer.unk_token_id)\n",
    "train_label = torchtext.data.LabelField(dtype = torch.float)"
   ]
  },
  {
   "cell_type": "code",
   "execution_count": 15,
   "metadata": {},
   "outputs": [],
   "source": [
    "train_data, test_data = torchtext.datasets.imdb.IMDB.splits(train_text, train_label)"
   ]
  },
  {
   "cell_type": "markdown",
   "metadata": {},
   "source": [
    "划分验证集，划分比例为训练集：验证集=4:1"
   ]
  },
  {
   "cell_type": "code",
   "execution_count": 16,
   "metadata": {},
   "outputs": [],
   "source": [
    "SEED=20230102\n",
    "train_data, valid_data = train_data.split(random_state = random.seed(SEED),split_ratio=0.8)\n",
    "train_label.build_vocab(train_data)"
   ]
  },
  {
   "cell_type": "code",
   "execution_count": 18,
   "metadata": {},
   "outputs": [
    {
     "data": {
      "text/plain": [
       "(20000, 5000, 25000)"
      ]
     },
     "execution_count": 18,
     "metadata": {},
     "output_type": "execute_result"
    }
   ],
   "source": [
    "len(train_data), len(valid_data), len(test_data)"
   ]
  },
  {
   "cell_type": "markdown",
   "metadata": {},
   "source": [
    "定义情感分析模型，设计的比较简单：BERT模型+平均池化+分类头。  \n",
    "分类头简单使用一层全连接层和一层sigmoid将值映射到$[0,1]$上，便于计算二分类交叉熵"
   ]
  },
  {
   "cell_type": "code",
   "execution_count": 26,
   "metadata": {},
   "outputs": [],
   "source": [
    "class SentimentAnalysisModel(nn.Module):\n",
    "    def __init__(self, bertModel):\n",
    "        super().__init__()\n",
    "        self.bertModel = bertModel\n",
    "        self.classifier = torch.nn.Sequential(nn.Linear(bertModel.config.hidden_size, 1), nn.Sigmoid())\n",
    "        \n",
    "    def forward(self, text):\n",
    "        embedded = self.bertModel(text)[0]\n",
    "        avg = embedded.mean(dim=1)\n",
    "        predict = self.classifier(avg)\n",
    "        return predict"
   ]
  },
  {
   "cell_type": "markdown",
   "metadata": {},
   "source": [
    "按batch_size打包数据"
   ]
  },
  {
   "cell_type": "code",
   "execution_count": 27,
   "metadata": {},
   "outputs": [],
   "source": [
    "BATCH_SIZE = 32\n",
    "device = torch.device('cuda' if torch.cuda.is_available() else 'cpu')\n",
    "train_iterator, valid_iterator, test_iterator = torchtext.data.BucketIterator.splits(\n",
    "    (train_data, valid_data, test_data), \n",
    "    batch_size = BATCH_SIZE,\n",
    "    sort_within_batch = True,\n",
    "    device = device)"
   ]
  },
  {
   "cell_type": "markdown",
   "metadata": {},
   "source": [
    "实例化模型"
   ]
  },
  {
   "cell_type": "code",
   "execution_count": 28,
   "metadata": {},
   "outputs": [],
   "source": [
    "model = SentimentAnalysisModel(bertModel)"
   ]
  },
  {
   "cell_type": "markdown",
   "metadata": {},
   "source": [
    "使用AdamW作为优化器、BCELoss作为模型损失函数"
   ]
  },
  {
   "cell_type": "code",
   "execution_count": 29,
   "metadata": {},
   "outputs": [],
   "source": [
    "optimizer = torch.optim.AdamW(model.parameters(), lr = 1e-5, eps = 1e-8)\n",
    "Loss = torch.nn.BCELoss()"
   ]
  },
  {
   "cell_type": "markdown",
   "metadata": {},
   "source": [
    "将模型和损失函数放到gpu上，由于BERT模型很大，所以需要DataParallel实现多卡"
   ]
  },
  {
   "cell_type": "code",
   "execution_count": 30,
   "metadata": {},
   "outputs": [],
   "source": [
    "model = nn.DataParallel(model).to(device)\n",
    "Loss = Loss.to(device)"
   ]
  },
  {
   "cell_type": "markdown",
   "metadata": {},
   "source": [
    "定义计算准确率的函数，对结果取四舍五入近似和真实值比较是否相同"
   ]
  },
  {
   "cell_type": "code",
   "execution_count": 31,
   "metadata": {},
   "outputs": [],
   "source": [
    "def cal_acc(preds, y):\n",
    "    rounded_preds = torch.round(preds)\n",
    "    correct = (rounded_preds == y).float()\n",
    "    acc = correct.sum() / len(correct)\n",
    "    return acc"
   ]
  },
  {
   "cell_type": "markdown",
   "metadata": {},
   "source": [
    "训练代码（有反向传播更新参数）和在验证集上的上测试loss和acc的代码："
   ]
  },
  {
   "cell_type": "code",
   "execution_count": 32,
   "metadata": {},
   "outputs": [],
   "source": [
    "def train(model, iterator, optimizer, Loss):\n",
    "    epoch_loss = 0\n",
    "    epoch_acc = 0\n",
    "    model.train()\n",
    "    for batch in tqdm.tqdm(iterator, desc='training...', file=sys.stdout):\n",
    "        optimizer.zero_grad()\n",
    "        text = batch.text\n",
    "        predictions = model(text).squeeze(1)\n",
    "        loss = Loss(predictions, batch.label)\n",
    "        acc = cal_acc(predictions, batch.label)\n",
    "        loss.backward()\n",
    "        optimizer.step()\n",
    "        epoch_loss += loss.item()\n",
    "        epoch_acc += acc.item()\n",
    "    return epoch_loss / len(iterator), epoch_acc / len(iterator)\n",
    "\n",
    "def evaluate(model, iterator, Loss):\n",
    "    epoch_loss = 0\n",
    "    epoch_acc = 0\n",
    "    model.eval()\n",
    "    with torch.no_grad():\n",
    "        for batch in tqdm.tqdm(iterator, desc='evaluating...', file=sys.stdout):\n",
    "            text = batch.text\n",
    "            predictions = model(text).squeeze(1)\n",
    "            loss = Loss(predictions, batch.label)\n",
    "            acc = cal_acc(predictions, batch.label)\n",
    "            epoch_loss += loss.item()\n",
    "            epoch_acc += acc.item()\n",
    "    return epoch_loss / len(iterator), epoch_acc / len(iterator)"
   ]
  },
  {
   "cell_type": "markdown",
   "metadata": {},
   "source": [
    "开始训练。经过实验发现收敛很快，在1-2轮即可收敛，所以跑3轮即可。"
   ]
  },
  {
   "cell_type": "code",
   "execution_count": 33,
   "metadata": {
    "scrolled": true
   },
   "outputs": [
    {
     "name": "stdout",
     "output_type": "stream",
     "text": [
      "training...: 100%|██████████| 625/625 [03:55<00:00,  2.66it/s]\n",
      "evaluating...: 100%|██████████| 157/157 [00:20<00:00,  7.53it/s]\n",
      "Epoch: 01\n",
      "\tTrain Loss: 0.274 | Train Acc: 0.88475\n",
      "\t Val. Loss: 0.211 | Val. Acc: 0.91979\n",
      "training...: 100%|██████████| 625/625 [03:44<00:00,  2.79it/s]\n",
      "evaluating...: 100%|██████████| 157/157 [00:20<00:00,  7.50it/s]\n",
      "Epoch: 02\n",
      "\tTrain Loss: 0.164 | Train Acc: 0.93885\n",
      "\t Val. Loss: 0.192 | Val. Acc: 0.92615\n",
      "training...: 100%|██████████| 625/625 [03:43<00:00,  2.79it/s]\n",
      "evaluating...: 100%|██████████| 157/157 [00:21<00:00,  7.44it/s]\n",
      "Epoch: 03\n",
      "\tTrain Loss: 0.103 | Train Acc: 0.96520\n",
      "\t Val. Loss: 0.217 | Val. Acc: 0.93033\n"
     ]
    },
    {
     "data": {
      "text/plain": [
       "<All keys matched successfully>"
      ]
     },
     "execution_count": 33,
     "metadata": {},
     "output_type": "execute_result"
    }
   ],
   "source": [
    "epochs = 3\n",
    "best_valid_loss = float('inf')\n",
    "for epoch in range(epochs):\n",
    "    train_loss, train_acc = train(model, train_iterator, optimizer, Loss)\n",
    "    valid_loss, valid_acc = evaluate(model, valid_iterator, Loss)\n",
    "    if valid_loss < best_valid_loss:\n",
    "        best_valid_loss = valid_loss\n",
    "        torch.save(model.state_dict(), 'model.pt')\n",
    "    print(f'Epoch: {epoch+1:02}')\n",
    "    print(f'\\tTrain Loss: {train_loss:.3f} | Train Acc: {train_acc:.5f}')\n",
    "    print(f'\\t Val. Loss: {valid_loss:.3f} | Val. Acc: {valid_acc:.5f}')"
   ]
  },
  {
   "cell_type": "markdown",
   "metadata": {},
   "source": [
    "### 三、参数选取"
   ]
  },
  {
   "cell_type": "markdown",
   "metadata": {},
   "source": [
    "下面是不同BERT预训练模型和学习率的情况下，在验证集进行测试，以求找到最佳参数。"
   ]
  },
  {
   "cell_type": "markdown",
   "metadata": {},
   "source": [
    "| BERT模型 | 学习率 | Best Valid Loss |\n",
    "| ---------- | --------------- | ---|\n",
    "| bert-base-uncased         | 1e-5          | **0.192** |\n",
    "| bert-base-uncased         | 1e-6          | 0.211 |\n",
    "| bert-large-uncased        | 1e-5      | 0.197 |\n",
    "| bert-large-uncased        | 1e-6      | 0.201 |"
   ]
  },
  {
   "cell_type": "markdown",
   "metadata": {},
   "source": [
    "### 四、测试结果"
   ]
  },
  {
   "cell_type": "markdown",
   "metadata": {},
   "source": [
    "读取最佳模型参数"
   ]
  },
  {
   "cell_type": "code",
   "execution_count": null,
   "metadata": {},
   "outputs": [],
   "source": [
    "model.load_state_dict(torch.load('model.pt'))"
   ]
  },
  {
   "cell_type": "markdown",
   "metadata": {},
   "source": [
    "选择验证集上表现最好的模型参数在测试集上测试"
   ]
  },
  {
   "cell_type": "code",
   "execution_count": 34,
   "metadata": {},
   "outputs": [
    {
     "name": "stdout",
     "output_type": "stream",
     "text": [
      "evaluating...: 100%|██████████| 782/782 [01:44<00:00,  7.52it/s]\n",
      "Test Loss: 0.181 | Test Acc: 0.93119\n"
     ]
    }
   ],
   "source": [
    "test_loss, test_acc = evaluate(model, test_iterator, Loss)\n",
    "print(f'Test Loss: {test_loss:.3f} | Test Acc: {test_acc:.5f}')"
   ]
  },
  {
   "cell_type": "markdown",
   "metadata": {},
   "source": [
    "ACC为0.93119"
   ]
  },
  {
   "cell_type": "markdown",
   "metadata": {},
   "source": [
    "### 五、和RNN模型的比较"
   ]
  },
  {
   "cell_type": "markdown",
   "metadata": {},
   "source": [
    "在同为BCELoss的情况下，两者在测试集上的表现为："
   ]
  },
  {
   "cell_type": "markdown",
   "metadata": {},
   "source": [
    "| Model | BCELoss | ACC     |\n",
    "| ----- | ------- | ------- |\n",
    "| RNN   | 0.284   | 89.143% |\n",
    "| BERT  | 0.181   | 93.119% |"
   ]
  },
  {
   "cell_type": "markdown",
   "metadata": {},
   "source": [
    "从模型表现和性能上来说，显然BERT要更优。"
   ]
  },
  {
   "cell_type": "markdown",
   "metadata": {},
   "source": [
    "当然BERT的参数更多，bert-base-uncased有104w参数，bert-large-uncased有335w参数，所以无论是消耗的显存、以及训练单轮所需要的时间，BERT模型都需要更多。  \n",
    "训练时，bert-base-uncased需要37GB显存和5min单轮训练时间(BATCH_SIZE=32),bert-large-uncased需要29GB显存和36min单轮训练时间(BATCH_SIZE=8)，而RNN模型在BATCH_SIZE=256时也仅需要11GB内存和约40s单轮训练时间。"
   ]
  }
 ],
 "metadata": {
  "kernelspec": {
   "display_name": "Python 3",
   "language": "python",
   "name": "python3"
  },
  "language_info": {
   "codemirror_mode": {
    "name": "ipython",
    "version": 3
   },
   "file_extension": ".py",
   "mimetype": "text/x-python",
   "name": "python",
   "nbconvert_exporter": "python",
   "pygments_lexer": "ipython3",
   "version": "3.7.2"
  }
 },
 "nbformat": 4,
 "nbformat_minor": 2
}
