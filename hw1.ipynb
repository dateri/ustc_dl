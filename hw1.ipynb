{
 "cells": [
  {
   "cell_type": "markdown",
   "id": "3f168219",
   "metadata": {},
   "source": [
    "# DeepLearning Assignment 1 实验报告\n",
    "# SA22221042 汪泱泱"
   ]
  },
  {
   "cell_type": "markdown",
   "id": "ca84565b",
   "metadata": {},
   "source": [
    "## 一、实验过程\n"
   ]
  },
  {
   "cell_type": "code",
   "execution_count": 29,
   "id": "e76f7a6c",
   "metadata": {},
   "outputs": [],
   "source": [
    "import torch\n",
    "import torch.nn.functional as F\n",
    "import numpy as np\n",
    "import random\n",
    "\n",
    "from torch import nn\n",
    "from sklearn import datasets\n",
    "from matplotlib import pyplot as plt\n",
    "from torch.utils.data import TensorDataset, DataLoader\n"
   ]
  },
  {
   "cell_type": "markdown",
   "id": "689bb5d1",
   "metadata": {},
   "source": [
    "在$[0,4\\pi)$随机生成样本x，根据$y=\\sin(x)+e^{-x}$计算对应的y值"
   ]
  },
  {
   "cell_type": "code",
   "execution_count": 30,
   "id": "2ae445b7",
   "metadata": {},
   "outputs": [],
   "source": [
    "num_samples = 10000\n",
    "x = np.random.uniform(0, 4*np.pi, num_samples)\n",
    "np.random.shuffle(x)\n",
    "x = x.reshape(-1, 1)\n",
    "x = torch.tensor(x, dtype=torch.float32)\n",
    "y = torch.sin(x) + torch.exp(-x)"
   ]
  },
  {
   "cell_type": "markdown",
   "id": "1fdde13c",
   "metadata": {},
   "source": [
    "按照7:1:2划分训练集、验证集、测试集"
   ]
  },
  {
   "cell_type": "code",
   "execution_count": 31,
   "id": "2ea067ed",
   "metadata": {},
   "outputs": [],
   "source": [
    "train_rate = 0.7\n",
    "validation_rate = 0.1\n",
    "test_rate = 0.2\n",
    "train_samples = round(num_samples * train_rate)\n",
    "validation_samples = round(num_samples * (train_rate + validation_rate))\n",
    "train_x = x[:train_samples]\n",
    "train_y = y[:train_samples]\n",
    "validation_x = x[train_samples:validation_samples]\n",
    "validation_y = y[train_samples:validation_samples]\n",
    "test_x = x[validation_samples:]\n",
    "test_y = y[validation_samples:]"
   ]
  },
  {
   "cell_type": "markdown",
   "id": "76e363ec",
   "metadata": {},
   "source": [
    " 将划分好的训练集、验证集、测试集从Tensor格式转化成DataLoader格式"
   ]
  },
  {
   "cell_type": "code",
   "execution_count": 32,
   "id": "1f71354f",
   "metadata": {},
   "outputs": [],
   "source": [
    "batch_size=256\n",
    "\n",
    "dataset = TensorDataset(train_x, train_y)\n",
    "train_loader = DataLoader(\n",
    "    dataset=dataset,\n",
    "    batch_size=batch_size,\n",
    "    shuffle=True,\n",
    "    num_workers=1,\n",
    ")\n",
    "\n",
    "dataset = TensorDataset(validation_x, validation_y)\n",
    "validation_loader = DataLoader(\n",
    "    dataset=dataset,\n",
    "    batch_size=batch_size,\n",
    "    shuffle=True,\n",
    "    num_workers=1,\n",
    ")\n",
    "\n",
    "dataset = TensorDataset(test_x, test_y)\n",
    "test_loader = DataLoader(\n",
    "    dataset=dataset,\n",
    "    batch_size=batch_size,\n",
    "    shuffle=True,\n",
    "    num_workers=1,\n",
    ")"
   ]
  },
  {
   "cell_type": "markdown",
   "id": "3de22f91",
   "metadata": {},
   "source": [
    "神经网络模型的类，继承nn.Module。\n",
    "\n",
    "由于仅需要拟合一维函数，所以神经网络仅由全连接层和激活函数两种网络组成。\n",
    "\n",
    "由于后面要分析网络深度、网络宽度、激活函数对模型性能的影响，所以先不将网络深度、网络宽度、激活函数写死，而是通过初始化函数的参数决定。\n"
   ]
  },
  {
   "cell_type": "code",
   "execution_count": 33,
   "id": "b329d62d",
   "metadata": {},
   "outputs": [],
   "source": [
    "class Model(nn.Module):\n",
    "    activation_dict = {\n",
    "        'Logistic': nn.Sigmoid(),\n",
    "        'Tanh': nn.Tanh(),\n",
    "        'ReLU': nn.ReLU(),\n",
    "        'ELU': nn.ELU(),\n",
    "        'Softplus': nn.Softplus()\n",
    "    }\n",
    "    def __init__(self, hidden_layer_num, layer_size, activation):\n",
    "        super().__init__()\n",
    "        assert hidden_layer_num>0\n",
    "        self.activation = self.activation_dict[activation]\n",
    "        self.fc_list = nn.ModuleList()\n",
    "        self.fc_list.append(nn.Linear(1, layer_size))\n",
    "        for i in range(hidden_layer_num-1):\n",
    "            self.fc_list.append(nn.Linear(layer_size, layer_size))\n",
    "        self.fc_list.append(nn.Linear(layer_size, 1))\n",
    "\n",
    "    def forward(self, x):\n",
    "        for i in range(len(self.fc_list)):\n",
    "            x = self.fc_list[i](x)\n",
    "            if i != len(self.fc_list)-1:\n",
    "                x = self.activation(x)\n",
    "        return x\n"
   ]
  },
  {
   "cell_type": "markdown",
   "id": "5272b8b3",
   "metadata": {},
   "source": [
    "先选择ReLU激活函数、隐藏层层数5、每层100个神经元实例化模型。\n",
    "\n",
    "使用Adam优化器，学习率先设置为1e-3\n",
    "\n",
    "将模型放在gpu上，以加速模型训练"
   ]
  },
  {
   "cell_type": "code",
   "execution_count": 34,
   "id": "45e25334",
   "metadata": {},
   "outputs": [],
   "source": [
    "activation = 'ReLU'\n",
    "hidden_layer_num = 5\n",
    "layer_size = 100\n",
    "model = Model(hidden_layer_num, layer_size, activation)\n",
    "n_gpu = torch.cuda.device_count()\n",
    "device = torch.device('cuda:0' if n_gpu > 0 else 'cpu')\n",
    "model = model.to(device)\n",
    "learning_rate = 3e-4\n",
    "optimizer = torch.optim.Adam(model.parameters(), lr=learning_rate)"
   ]
  },
  {
   "cell_type": "markdown",
   "id": "8ad4375a",
   "metadata": {},
   "source": [
    "对模型进行训练，根据要求选择MSE作为损失函数，每隔10个epoch记录训练集和验证集上的损失，以备作图"
   ]
  },
  {
   "cell_type": "code",
   "execution_count": 35,
   "id": "9d54c26f",
   "metadata": {},
   "outputs": [
    {
     "name": "stdout",
     "output_type": "stream",
     "text": [
      "[Epoch 10/100] Train Loss = 0.0916, Validation Loss = 0.0968\n",
      "[Epoch 20/100] Train Loss = 0.0170, Validation Loss = 0.0185\n",
      "[Epoch 30/100] Train Loss = 0.0013, Validation Loss = 0.0014\n",
      "[Epoch 40/100] Train Loss = 0.0030, Validation Loss = 0.0031\n",
      "[Epoch 50/100] Train Loss = 0.0001, Validation Loss = 0.0001\n",
      "[Epoch 60/100] Train Loss = 0.0001, Validation Loss = 0.0001\n",
      "[Epoch 70/100] Train Loss = 0.0002, Validation Loss = 0.0002\n",
      "[Epoch 80/100] Train Loss = 0.0006, Validation Loss = 0.0006\n",
      "[Epoch 90/100] Train Loss = 0.0005, Validation Loss = 0.0005\n",
      "[Epoch 100/100] Train Loss = 0.0001, Validation Loss = 0.0001\n"
     ]
    }
   ],
   "source": [
    "Loss = nn.MSELoss()\n",
    "epochs = 100\n",
    "train_losses = []\n",
    "validation_losses = []\n",
    "for epoch in range(epochs):\n",
    "    for batch_id, (x, y) in enumerate(train_loader):\n",
    "        x, y = x.to(device), y.to(device)\n",
    "        optimizer.zero_grad()\n",
    "        output = model(x)\n",
    "        loss = Loss(y, output)\n",
    "        loss.backward()\n",
    "        optimizer.step()\n",
    "    if (epoch+1)%10 == 0:\n",
    "        print('[Epoch {}/{}] Train Loss = {:.4f}, Validation Loss = {:.4f}'\n",
    "        .format(epoch + 1, epochs, Loss(train_y, model(train_x)), Loss(validation_y, model(validation_x))))\n",
    "        train_losses.append(float(Loss(train_y, model(train_x)).detach().numpy()))\n",
    "        validation_losses.append(float(Loss(validation_y, model(validation_x))))"
   ]
  },
  {
   "cell_type": "markdown",
   "id": "c29272e7",
   "metadata": {},
   "source": [
    "作出训练误差和验证误差关于ehoch的折线图"
   ]
  },
  {
   "cell_type": "code",
   "execution_count": 36,
   "id": "f5ba5cf4",
   "metadata": {},
   "outputs": [
    {
     "data": {
      "image/png": "[encoded data removed]",
      "text/plain": [
       "<Figure size 640x480 with 1 Axes>"
      ]
     },
     "metadata": {},
     "output_type": "display_data"
    }
   ],
   "source": [
    "epoch_x = np.linspace(10, epochs, epochs//10).tolist()\n",
    "plt.plot(epoch_x, train_losses, label=\"train_loss\",color='g')\n",
    "plt.plot(epoch_x, validation_losses, label=\"validation_loss\",color='b')\n",
    "plt.xlabel(\"epoch\")\n",
    "plt.ylabel(\"loss\")\n",
    "plt.legend()\n",
    "plt.show()"
   ]
  },
  {
   "cell_type": "markdown",
   "id": "6a62a97f",
   "metadata": {},
   "source": [
    "作出训练得到的模型在验证集上产生(x,y)的散点图（由于验证集样本较多，选取了其中300个点）\n",
    "\n",
    "为了体现效果，我们将$y=\\sin(x)+e^{-x}$在$[0,4\\pi)$的图像绘制在同一张图上"
   ]
  },
  {
   "cell_type": "code",
   "execution_count": 46,
   "id": "f4a49b1a",
   "metadata": {},
   "outputs": [
    {
     "data": {
      "text/plain": [
       "[<matplotlib.lines.Line2D at 0x7efcf8740af0>]"
      ]
     },
     "execution_count": 46,
     "metadata": {},
     "output_type": "execute_result"
    },
    {
     "data": {
      "image/png": "[encoded data removed]",
      "text/plain": [
       "<Figure size 640x480 with 1 Axes>"
      ]
     },
     "metadata": {},
     "output_type": "display_data"
    }
   ],
   "source": [
    "t = validation_x.clone()\n",
    "random.shuffle(t)\n",
    "x = t[:300]\n",
    "y = model(x).detach().numpy()\n",
    "plt.scatter(x, y, s=10)\n",
    "\n",
    "x = np.linspace(0, 4*np.pi)\n",
    "plt.plot(x, np.sin(x)+np.exp(-x),'r')"
   ]
  },
  {
   "cell_type": "markdown",
   "id": "a8c6d2fd",
   "metadata": {},
   "source": [
    "可以发现，散点大都离目标函数图像较近，所以训练效果还是不错的。"
   ]
  },
  {
   "cell_type": "markdown",
   "id": "6939e10f",
   "metadata": {},
   "source": [
    "## 二、探究网络超参数（深度、宽度、激活函数）和学习率对模型性能的影响"
   ]
  },
  {
   "cell_type": "markdown",
   "id": "000c4864",
   "metadata": {},
   "source": [
    "#### 1、网络深度对模型的影响"
   ]
  },
  {
   "cell_type": "code",
   "execution_count": null,
   "id": "01afedb7",
   "metadata": {},
   "outputs": [],
   "source": [
    "activation = 'ReLU'\n",
    "layer_size = 100\n",
    "validation_losses_dict = {}\n",
    "for hidden_layer_num in range(1, 9):\n",
    "    validation_losses_dict[hidden_layer_num] = []\n",
    "    model = Model(hidden_layer_num, layer_size, activation)\n",
    "    n_gpu = torch.cuda.device_count()\n",
    "    device = torch.device('cuda:0' if n_gpu > 0 else 'cpu')\n",
    "    model = model.to(device)\n",
    "    learning_rate = 3e-4\n",
    "    optimizer = torch.optim.Adam(model.parameters(), lr=learning_rate)\n",
    "    Loss = nn.MSELoss()\n",
    "    epochs = 100\n",
    "    for epoch in range(epochs):\n",
    "        for batch_id, (x, y) in enumerate(train_loader):\n",
    "            x, y = x.to(device), y.to(device)\n",
    "            optimizer.zero_grad()\n",
    "            output = model(x)\n",
    "            loss = Loss(y, output)\n",
    "            loss.backward()\n",
    "            optimizer.step()\n",
    "        if (epoch+1) % 10 == 0:\n",
    "            validation_losses_dict[hidden_layer_num].append(float(Loss(validation_y, model(validation_x))))\n",
    "\n",
    "epoch_x = np.linspace(10, epochs, epochs//10).tolist()\n",
    "for hidden_layer_num in range(1, 9):\n",
    "    plt.plot(epoch_x, validation_losses_dict[hidden_layer_num], label='hidden layer = '+str(hidden_layer_num))\n",
    "plt.xlabel(\"epoch\")\n",
    "plt.ylabel(\"loss\")\n",
    "plt.legend()\n",
    "plt.show()"
   ]
  },
  {
   "cell_type": "markdown",
   "id": "2d68f038",
   "metadata": {},
   "source": [
    "#### 2、学习率对模型的影响"
   ]
  },
  {
   "cell_type": "code",
   "execution_count": null,
   "id": "397b49ae",
   "metadata": {},
   "outputs": [],
   "source": [
    "activation = 'ReLU'\n",
    "layer_size = 100\n",
    "hidden_layer_num = 5\n",
    "validation_losses_dict = {}\n",
    "learning_rate_list = [1e-2, 3e-2, 1e-3, 3e-4, 1e-4, 1e-5]\n",
    "for learning_rate in learning_rate_list:\n",
    "    validation_losses_dict[hidden_layer_num] = []\n",
    "    model = Model(hidden_layer_num, layer_size, activation)\n",
    "    n_gpu = torch.cuda.device_count()\n",
    "    device = torch.device('cuda:0' if n_gpu > 0 else 'cpu')\n",
    "    model = model.to(device)\n",
    "    optimizer = torch.optim.Adam(model.parameters(), lr=learning_rate)\n",
    "    Loss = nn.MSELoss()\n",
    "    epochs = 100\n",
    "    for epoch in range(epochs):\n",
    "        for batch_id, (x, y) in enumerate(train_loader):\n",
    "            x, y = x.to(device), y.to(device)\n",
    "            optimizer.zero_grad()\n",
    "            output = model(x)\n",
    "            loss = Loss(y, output)\n",
    "            loss.backward()\n",
    "            optimizer.step()\n",
    "        if (epoch+1) % 10 == 0:\n",
    "            validation_losses_dict[learning_rate].append(float(Loss(validation_y, model(validation_x))))\n",
    "\n",
    "epoch_x = np.linspace(10, epochs, epochs//10).tolist()\n",
    "for learning_rate in learning_rate_list:\n",
    "    plt.plot(epoch_x, learning_rate_list[learning_rate], label='lr = '+str(hidden_layer_num))\n",
    "plt.xlabel(\"epoch\")\n",
    "plt.ylabel(\"loss\")\n",
    "plt.legend()\n",
    "plt.show()"
   ]
  }
 ],
 "metadata": {
  "kernelspec": {
   "display_name": "Python 3.8.0 ('dagan': conda)",
   "language": "python",
   "name": "python3"
  },
  "language_info": {
   "codemirror_mode": {
    "name": "ipython",
    "version": 3
   },
   "file_extension": ".py",
   "mimetype": "text/x-python",
   "name": "python",
   "nbconvert_exporter": "python",
   "pygments_lexer": "ipython3",
   "version": "3.8.0"
  },
  "vscode": {
   "interpreter": {
    "hash": "9e8dd3267ef4791506c771e2079289b6851a240d349ed7aa6d309ddb95f27f49"
   }
  }
 },
 "nbformat": 4,
 "nbformat_minor": 5
}
